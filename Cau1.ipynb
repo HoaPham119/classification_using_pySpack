{
 "cells": [
  {
   "cell_type": "code",
   "execution_count": 1,
   "metadata": {
    "colab": {
     "base_uri": "https://localhost:8080/"
    },
    "id": "c0JvcgTY_23t",
    "outputId": "9d20aeff-7ad3-4bb9-f66c-eec78fa63895"
   },
   "outputs": [],
   "source": [
    "# !apt-get install openjdk-8-jdk-headless -qq > /dev/null\n",
    "# !wget -q http://archive.apache.org/dist/spark/spark-2.4.0/spark-2.4.0-bin-hadoop2.7.tgz\n",
    "# !tar -xvf spark-2.4.0-bin-hadoop2.7.tgz\n",
    "# !pip install -q findspark\n",
    "# import os\n",
    "# os.environ[\"JAVA_HOME\"] = \"/usr/lib/jvm/java-8-openjdk-amd64\"\n",
    "# os.environ[\"SPARK_HOME\"] = \"/content/spark-2.4.0-bin-hadoop2.7\"\n",
    "import findspark\n",
    "findspark.init()"
   ]
  },
  {
   "cell_type": "code",
   "execution_count": 2,
   "metadata": {
    "colab": {
     "base_uri": "https://localhost:8080/"
    },
    "id": "dumPUEuh_-nY",
    "outputId": "5b784da6-2bb7-4b69-d258-4b3b9fc0ccb8"
   },
   "outputs": [],
   "source": [
    "# from google.colab import drive\n",
    "# drive.mount('/content/gdrive', force_remount=True)"
   ]
  },
  {
   "cell_type": "code",
   "execution_count": 3,
   "metadata": {
    "colab": {
     "base_uri": "https://localhost:8080/"
    },
    "id": "RH0SEBw0ABPH",
    "outputId": "c0b3f7dd-9616-4c0c-c709-f0b21631d9be"
   },
   "outputs": [],
   "source": [
    "# %cd '/content/gdrive/My Drive/LDS9/Practice/Chapter6/'"
   ]
  },
  {
   "cell_type": "code",
   "execution_count": 4,
   "metadata": {
    "id": "sMEWXllEAD3X"
   },
   "outputs": [],
   "source": [
    "# import libraries\n",
    "from pyspark import SparkContext\n",
    "from pyspark.conf import SparkConf\n",
    "from pyspark.sql import SparkSession\n",
    "import matplotlib.pyplot as plt\n",
    "import seaborn as sns\n",
    "import pandas as pd\n",
    "from scipy import stats\n",
    "from datetime import datetime\n",
    "from pyspark.sql import types \n",
    "from pyspark.sql.functions import regexp_extract, col\n",
    "from pyspark.sql.functions import datediff\n",
    "from pyspark.sql.functions import *\n",
    "\n",
    "from pyspark.ml.linalg import Vectors\n",
    "from pyspark.ml.feature import VectorAssembler\n",
    "from pyspark.ml.regression import LinearRegression\n",
    "from pyspark.ml.regression import LinearRegressionModel\n",
    "from pyspark.ml.linalg import Vector\n",
    "from pyspark.ml.pipeline import Pipeline\n",
    "from pyspark.ml.classification import *\n",
    "from pyspark.ml.evaluation import MulticlassClassificationEvaluator, BinaryClassificationEvaluator\n",
    "from pyspark.mllib.evaluation import MulticlassMetrics\n",
    "from pyspark.sql.types import *\n",
    "from pyspark.ml.feature import *\n",
    "import warnings\n",
    "warnings.filterwarnings('ignore', category=FutureWarning)"
   ]
  },
  {
   "cell_type": "code",
   "execution_count": 5,
   "metadata": {},
   "outputs": [],
   "source": [
    "sc = SparkContext(master='local',appName='Cau1')"
   ]
  },
  {
   "cell_type": "code",
   "execution_count": 6,
   "metadata": {},
   "outputs": [
    {
     "data": {
      "text/html": [
       "\n",
       "        <div>\n",
       "            <p><b>SparkContext</b></p>\n",
       "\n",
       "            <p><a href=\"http://DESKTOP-LMLF9T1:4040\">Spark UI</a></p>\n",
       "\n",
       "            <dl>\n",
       "              <dt>Version</dt>\n",
       "                <dd><code>v3.1.1</code></dd>\n",
       "              <dt>Master</dt>\n",
       "                <dd><code>local</code></dd>\n",
       "              <dt>AppName</dt>\n",
       "                <dd><code>Cau1</code></dd>\n",
       "            </dl>\n",
       "        </div>\n",
       "        "
      ],
      "text/plain": [
       "<SparkContext master=local appName=Cau1>"
      ]
     },
     "execution_count": 6,
     "metadata": {},
     "output_type": "execute_result"
    }
   ],
   "source": [
    "sc"
   ]
  },
  {
   "cell_type": "code",
   "execution_count": 7,
   "metadata": {},
   "outputs": [],
   "source": [
    "spark = SparkSession(sc)"
   ]
  },
  {
   "cell_type": "markdown",
   "metadata": {},
   "source": [
    "# Đọc dữ liệu"
   ]
  },
  {
   "cell_type": "code",
   "execution_count": 8,
   "metadata": {},
   "outputs": [],
   "source": [
    "df = pd.read_excel('Data/womens-ecommerce-clothing-reviews/Womens_Clothing_E_Commerce_Reviews.xlsx', sheet_name='Reviews',engine='openpyxl')"
   ]
  },
  {
   "cell_type": "code",
   "execution_count": 9,
   "metadata": {
    "scrolled": true
   },
   "outputs": [
    {
     "data": {
      "text/html": [
       "<div>\n",
       "<style scoped>\n",
       "    .dataframe tbody tr th:only-of-type {\n",
       "        vertical-align: middle;\n",
       "    }\n",
       "\n",
       "    .dataframe tbody tr th {\n",
       "        vertical-align: top;\n",
       "    }\n",
       "\n",
       "    .dataframe thead th {\n",
       "        text-align: right;\n",
       "    }\n",
       "</style>\n",
       "<table border=\"1\" class=\"dataframe\">\n",
       "  <thead>\n",
       "    <tr style=\"text-align: right;\">\n",
       "      <th></th>\n",
       "      <th>Unnamed: 0</th>\n",
       "      <th>Clothing ID</th>\n",
       "      <th>Age</th>\n",
       "      <th>Title</th>\n",
       "      <th>Review Text</th>\n",
       "      <th>Rating</th>\n",
       "      <th>Recommended IND</th>\n",
       "      <th>Positive Feedback Count</th>\n",
       "      <th>Division Name</th>\n",
       "      <th>Department Name</th>\n",
       "      <th>Class Name</th>\n",
       "    </tr>\n",
       "  </thead>\n",
       "  <tbody>\n",
       "    <tr>\n",
       "      <th>0</th>\n",
       "      <td>0</td>\n",
       "      <td>767</td>\n",
       "      <td>33</td>\n",
       "      <td>NaN</td>\n",
       "      <td>Absolutely wonderful - silky and sexy and comf...</td>\n",
       "      <td>4</td>\n",
       "      <td>1</td>\n",
       "      <td>0</td>\n",
       "      <td>Initmates</td>\n",
       "      <td>Intimate</td>\n",
       "      <td>Intimates</td>\n",
       "    </tr>\n",
       "    <tr>\n",
       "      <th>1</th>\n",
       "      <td>1</td>\n",
       "      <td>1080</td>\n",
       "      <td>34</td>\n",
       "      <td>NaN</td>\n",
       "      <td>Love this dress!  it's sooo pretty.  i happene...</td>\n",
       "      <td>5</td>\n",
       "      <td>1</td>\n",
       "      <td>4</td>\n",
       "      <td>General</td>\n",
       "      <td>Dresses</td>\n",
       "      <td>Dresses</td>\n",
       "    </tr>\n",
       "    <tr>\n",
       "      <th>2</th>\n",
       "      <td>2</td>\n",
       "      <td>1077</td>\n",
       "      <td>60</td>\n",
       "      <td>Some major design flaws</td>\n",
       "      <td>I had such high hopes for this dress and reall...</td>\n",
       "      <td>3</td>\n",
       "      <td>0</td>\n",
       "      <td>0</td>\n",
       "      <td>General</td>\n",
       "      <td>Dresses</td>\n",
       "      <td>Dresses</td>\n",
       "    </tr>\n",
       "  </tbody>\n",
       "</table>\n",
       "</div>"
      ],
      "text/plain": [
       "   Unnamed: 0  Clothing ID  Age                    Title  \\\n",
       "0           0          767   33                      NaN   \n",
       "1           1         1080   34                      NaN   \n",
       "2           2         1077   60  Some major design flaws   \n",
       "\n",
       "                                         Review Text  Rating  Recommended IND  \\\n",
       "0  Absolutely wonderful - silky and sexy and comf...       4                1   \n",
       "1  Love this dress!  it's sooo pretty.  i happene...       5                1   \n",
       "2  I had such high hopes for this dress and reall...       3                0   \n",
       "\n",
       "   Positive Feedback Count Division Name Department Name Class Name  \n",
       "0                        0     Initmates        Intimate  Intimates  \n",
       "1                        4       General         Dresses    Dresses  \n",
       "2                        0       General         Dresses    Dresses  "
      ]
     },
     "execution_count": 9,
     "metadata": {},
     "output_type": "execute_result"
    }
   ],
   "source": [
    "df.head(3)"
   ]
  },
  {
   "cell_type": "code",
   "execution_count": 10,
   "metadata": {
    "scrolled": true
   },
   "outputs": [
    {
     "data": {
      "text/plain": [
       "Index(['Unnamed: 0', 'Clothing ID', 'Age', 'Title', 'Review Text', 'Rating',\n",
       "       'Recommended IND', 'Positive Feedback Count', 'Division Name',\n",
       "       'Department Name', 'Class Name'],\n",
       "      dtype='object')"
      ]
     },
     "execution_count": 10,
     "metadata": {},
     "output_type": "execute_result"
    }
   ],
   "source": [
    "df.columns"
   ]
  },
  {
   "cell_type": "code",
   "execution_count": 11,
   "metadata": {},
   "outputs": [
    {
     "name": "stdout",
     "output_type": "stream",
     "text": [
      "<class 'pandas.core.frame.DataFrame'>\n",
      "RangeIndex: 23481 entries, 0 to 23480\n",
      "Data columns (total 11 columns):\n",
      " #   Column                   Non-Null Count  Dtype \n",
      "---  ------                   --------------  ----- \n",
      " 0   Unnamed: 0               23481 non-null  int64 \n",
      " 1   Clothing ID              23481 non-null  int64 \n",
      " 2   Age                      23481 non-null  int64 \n",
      " 3   Title                    19671 non-null  object\n",
      " 4   Review Text              22636 non-null  object\n",
      " 5   Rating                   23481 non-null  int64 \n",
      " 6   Recommended IND          23481 non-null  int64 \n",
      " 7   Positive Feedback Count  23481 non-null  int64 \n",
      " 8   Division Name            23467 non-null  object\n",
      " 9   Department Name          23467 non-null  object\n",
      " 10  Class Name               23467 non-null  object\n",
      "dtypes: int64(6), object(5)\n",
      "memory usage: 2.0+ MB\n"
     ]
    }
   ],
   "source": [
    "df.info()"
   ]
  },
  {
   "cell_type": "code",
   "execution_count": 12,
   "metadata": {},
   "outputs": [],
   "source": [
    "schema = StructType([StructField( 'Unnamed: 0', IntegerType(), True),StructField( 'Clothing ID', IntegerType(), True),StructField( 'Age', IntegerType(), True),StructField( 'Title', StringType(), True),StructField( 'Review Text', StringType(), True),StructField( 'Rating', IntegerType(), True), StructField('Recommended IND', IntegerType(),True),StructField('Positive Feedback Count', IntegerType(),True),StructField('Division Name', StringType(),True),StructField('Department Name', StringType(),True),StructField('Class Name', StringType(),True)])"
   ]
  },
  {
   "cell_type": "code",
   "execution_count": 13,
   "metadata": {},
   "outputs": [],
   "source": [
    "data = spark.createDataFrame(data=df, schema= schema)                           "
   ]
  },
  {
   "cell_type": "code",
   "execution_count": 14,
   "metadata": {
    "colab": {
     "base_uri": "https://localhost:8080/"
    },
    "id": "uVGsiQy3YM42",
    "outputId": "39e67fed-33ff-4f31-b05c-2e9ead54012e"
   },
   "outputs": [
    {
     "name": "stdout",
     "output_type": "stream",
     "text": [
      "root\n",
      " |-- Unnamed: 0: integer (nullable = true)\n",
      " |-- Clothing ID: integer (nullable = true)\n",
      " |-- Age: integer (nullable = true)\n",
      " |-- Title: string (nullable = true)\n",
      " |-- Review Text: string (nullable = true)\n",
      " |-- Rating: integer (nullable = true)\n",
      " |-- Recommended IND: integer (nullable = true)\n",
      " |-- Positive Feedback Count: integer (nullable = true)\n",
      " |-- Division Name: string (nullable = true)\n",
      " |-- Department Name: string (nullable = true)\n",
      " |-- Class Name: string (nullable = true)\n",
      "\n"
     ]
    }
   ],
   "source": [
    "# Print the Schema of the DataFrame\n",
    "data.printSchema()"
   ]
  },
  {
   "cell_type": "code",
   "execution_count": 15,
   "metadata": {
    "colab": {
     "base_uri": "https://localhost:8080/"
    },
    "id": "xTVUD4NLAxM_",
    "outputId": "e4f3ee52-e25c-45d3-d7b9-26ba0aaede3b"
   },
   "outputs": [
    {
     "name": "stdout",
     "output_type": "stream",
     "text": [
      "(23481, 11)\n"
     ]
    }
   ],
   "source": [
    "print((data.count(), len(data.columns)))"
   ]
  },
  {
   "cell_type": "code",
   "execution_count": 16,
   "metadata": {
    "colab": {
     "base_uri": "https://localhost:8080/"
    },
    "id": "9iKmmwibARm3",
    "outputId": "c8c5f15b-55a8-4021-f859-2c6cb43e9fb6"
   },
   "outputs": [
    {
     "data": {
      "text/plain": [
       "[Row(Unnamed: 0=0, Clothing ID=767, Age=33, Title='NaN', Review Text='Absolutely wonderful - silky and sexy and comfortable', Rating=4, Recommended IND=1, Positive Feedback Count=0, Division Name='Initmates', Department Name='Intimate', Class Name='Intimates')]"
      ]
     },
     "execution_count": 16,
     "metadata": {},
     "output_type": "execute_result"
    }
   ],
   "source": [
    "data.head(1)"
   ]
  },
  {
   "cell_type": "code",
   "execution_count": 17,
   "metadata": {},
   "outputs": [
    {
     "name": "stdout",
     "output_type": "stream",
     "text": [
      "+----------+-----------+---+--------------------+--------------------+------+---------------+-----------------------+-------------+---------------+----------+\n",
      "|Unnamed: 0|Clothing ID|Age|               Title|         Review Text|Rating|Recommended IND|Positive Feedback Count|Division Name|Department Name|Class Name|\n",
      "+----------+-----------+---+--------------------+--------------------+------+---------------+-----------------------+-------------+---------------+----------+\n",
      "|         0|        767| 33|                 NaN|Absolutely wonder...|     4|              1|                      0|    Initmates|       Intimate| Intimates|\n",
      "|         1|       1080| 34|                 NaN|Love this dress! ...|     5|              1|                      4|      General|        Dresses|   Dresses|\n",
      "|         2|       1077| 60|Some major design...|I had such high h...|     3|              0|                      0|      General|        Dresses|   Dresses|\n",
      "+----------+-----------+---+--------------------+--------------------+------+---------------+-----------------------+-------------+---------------+----------+\n",
      "only showing top 3 rows\n",
      "\n"
     ]
    }
   ],
   "source": [
    "data.show(3)"
   ]
  },
  {
   "cell_type": "code",
   "execution_count": 18,
   "metadata": {},
   "outputs": [
    {
     "data": {
      "text/plain": [
       "['Unnamed: 0',\n",
       " 'Clothing ID',\n",
       " 'Age',\n",
       " 'Title',\n",
       " 'Review Text',\n",
       " 'Rating',\n",
       " 'Recommended IND',\n",
       " 'Positive Feedback Count',\n",
       " 'Division Name',\n",
       " 'Department Name',\n",
       " 'Class Name']"
      ]
     },
     "execution_count": 18,
     "metadata": {},
     "output_type": "execute_result"
    }
   ],
   "source": [
    "data.columns"
   ]
  },
  {
   "cell_type": "code",
   "execution_count": 19,
   "metadata": {},
   "outputs": [],
   "source": [
    "# Chỉ lựa chọn một số thuộc tính để xây dựng model: ['Age', 'Title', 'Review Text', 'Rating','Positive Feedback Count','Recommended IND']\n",
    "data_sub = data.select(['Age', 'Title', 'Review Text', 'Rating','Positive Feedback Count','Recommended IND'])"
   ]
  },
  {
   "cell_type": "code",
   "execution_count": 20,
   "metadata": {},
   "outputs": [
    {
     "name": "stdout",
     "output_type": "stream",
     "text": [
      "+---+--------------------+--------------------+------+-----------------------+---------------+\n",
      "|Age|               Title|         Review Text|Rating|Positive Feedback Count|Recommended IND|\n",
      "+---+--------------------+--------------------+------+-----------------------+---------------+\n",
      "| 33|                 NaN|Absolutely wonder...|     4|                      0|              1|\n",
      "| 34|                 NaN|Love this dress! ...|     5|                      4|              1|\n",
      "| 60|Some major design...|I had such high h...|     3|                      0|              0|\n",
      "+---+--------------------+--------------------+------+-----------------------+---------------+\n",
      "only showing top 3 rows\n",
      "\n"
     ]
    }
   ],
   "source": [
    "data_sub.show(3)"
   ]
  },
  {
   "cell_type": "code",
   "execution_count": 21,
   "metadata": {},
   "outputs": [
    {
     "data": {
      "text/plain": [
       "677"
      ]
     },
     "execution_count": 21,
     "metadata": {},
     "output_type": "execute_result"
    }
   ],
   "source": [
    "# Kiểm tra dữ liệu trùng\n",
    "data_sub.count() - data_sub.distinct().count()"
   ]
  },
  {
   "cell_type": "code",
   "execution_count": 22,
   "metadata": {},
   "outputs": [],
   "source": [
    "data_sub  = data_sub.drop_duplicates()"
   ]
  },
  {
   "cell_type": "code",
   "execution_count": 23,
   "metadata": {},
   "outputs": [
    {
     "data": {
      "text/plain": [
       "0"
      ]
     },
     "execution_count": 23,
     "metadata": {},
     "output_type": "execute_result"
    }
   ],
   "source": [
    "# Kiểm tra lại\n",
    "data_sub.count() - data_sub.distinct().count()"
   ]
  },
  {
   "cell_type": "code",
   "execution_count": 24,
   "metadata": {},
   "outputs": [],
   "source": [
    "# Không còn dữ liệu trùng"
   ]
  },
  {
   "cell_type": "code",
   "execution_count": 25,
   "metadata": {},
   "outputs": [],
   "source": [
    "# Kiểm tra dữ liệu Nan - Null"
   ]
  },
  {
   "cell_type": "code",
   "execution_count": 26,
   "metadata": {},
   "outputs": [
    {
     "name": "stdout",
     "output_type": "stream",
     "text": [
      "+---+-----+-----------+------+-----------------------+---------------+\n",
      "|Age|Title|Review Text|Rating|Positive Feedback Count|Recommended IND|\n",
      "+---+-----+-----------+------+-----------------------+---------------+\n",
      "|  0| 3134|        170|     0|                      0|              0|\n",
      "+---+-----+-----------+------+-----------------------+---------------+\n",
      "\n"
     ]
    }
   ],
   "source": [
    "data_sub.select([count(when(isnan(c),c)).alias (c) for c in data_sub.columns]).show()"
   ]
  },
  {
   "cell_type": "code",
   "execution_count": 27,
   "metadata": {},
   "outputs": [],
   "source": [
    "# Chỉ có dữ liệu String có Nan, dữ liệu số không bị Nan"
   ]
  },
  {
   "cell_type": "code",
   "execution_count": 28,
   "metadata": {},
   "outputs": [
    {
     "name": "stdout",
     "output_type": "stream",
     "text": [
      "+---+-----+-----------+------+-----------------------+---------------+\n",
      "|Age|Title|Review Text|Rating|Positive Feedback Count|Recommended IND|\n",
      "+---+-----+-----------+------+-----------------------+---------------+\n",
      "|  0|    0|          0|     0|                      0|              0|\n",
      "+---+-----+-----------+------+-----------------------+---------------+\n",
      "\n"
     ]
    }
   ],
   "source": [
    "data_sub.select([count(when(isnull(c),c)).alias (c) for c in data_sub.columns]).show()"
   ]
  },
  {
   "cell_type": "code",
   "execution_count": 29,
   "metadata": {},
   "outputs": [],
   "source": [
    "# Không có dữ liệu Null"
   ]
  },
  {
   "cell_type": "code",
   "execution_count": 30,
   "metadata": {},
   "outputs": [
    {
     "data": {
      "text/plain": [
       "['Age',\n",
       " 'Title',\n",
       " 'Review Text',\n",
       " 'Rating',\n",
       " 'Positive Feedback Count',\n",
       " 'Recommended IND']"
      ]
     },
     "execution_count": 30,
     "metadata": {},
     "output_type": "execute_result"
    }
   ],
   "source": [
    "data_sub.columns"
   ]
  },
  {
   "cell_type": "code",
   "execution_count": 31,
   "metadata": {},
   "outputs": [
    {
     "name": "stdout",
     "output_type": "stream",
     "text": [
      "root\n",
      " |-- Age: integer (nullable = true)\n",
      " |-- Title: string (nullable = true)\n",
      " |-- Review Text: string (nullable = true)\n",
      " |-- Rating: integer (nullable = true)\n",
      " |-- Positive Feedback Count: integer (nullable = true)\n",
      " |-- Recommended IND: integer (nullable = true)\n",
      "\n"
     ]
    }
   ],
   "source": [
    "data_sub.printSchema()"
   ]
  },
  {
   "cell_type": "code",
   "execution_count": 32,
   "metadata": {},
   "outputs": [],
   "source": [
    "df_pandas = data_sub.select(['Age',\n",
    " 'Rating',\n",
    " 'Positive Feedback Count',\n",
    " 'Recommended IND']).toPandas()"
   ]
  },
  {
   "cell_type": "code",
   "execution_count": 33,
   "metadata": {},
   "outputs": [
    {
     "name": "stdout",
     "output_type": "stream",
     "text": [
      "Age: 77\n",
      "Rating: 5\n",
      "Positive Feedback Count: 82\n",
      "Recommended IND: 2\n"
     ]
    }
   ],
   "source": [
    "for i in df_pandas.columns:\n",
    "    a = data_sub.select(i).distinct()\n",
    "    print(f'{i}: {a.count()}')"
   ]
  },
  {
   "cell_type": "markdown",
   "metadata": {},
   "source": [
    "# Phân tích đơn biến"
   ]
  },
  {
   "cell_type": "code",
   "execution_count": 34,
   "metadata": {},
   "outputs": [
    {
     "name": "stdout",
     "output_type": "stream",
     "text": [
      "+-------+-----------------+------------------+-----------------------+------------------+\n",
      "|summary|              Age|            Rating|Positive Feedback Count|   Recommended IND|\n",
      "+-------+-----------------+------------------+-----------------------+------------------+\n",
      "|  count|            22804|             22804|                  22804|             22804|\n",
      "|   mean|43.29012453955446| 4.179793018768637|     2.6106384844764077|0.8178828275741098|\n",
      "| stddev|12.34046914450934|1.1179378585631887|      5.769148170162659|0.3859495303676664|\n",
      "|    min|               18|                 1|                      0|                 0|\n",
      "|    max|               99|                 5|                    122|                 1|\n",
      "+-------+-----------------+------------------+-----------------------+------------------+\n",
      "\n"
     ]
    }
   ],
   "source": [
    "# Xem những thông tin thống kê chung của dữ liệu\n",
    "data_sub.select(['Age', 'Rating', 'Positive Feedback Count', 'Recommended IND']).describe().show()"
   ]
  },
  {
   "cell_type": "markdown",
   "metadata": {},
   "source": [
    "## Biến liên tục"
   ]
  },
  {
   "cell_type": "code",
   "execution_count": 35,
   "metadata": {},
   "outputs": [
    {
     "name": "stdout",
     "output_type": "stream",
     "text": [
      "0. Age/\n"
     ]
    },
    {
     "data": {
      "image/png": "[encoded data removed]",
      "text/plain": [
       "<Figure size 576x288 with 2 Axes>"
      ]
     },
     "metadata": {
      "needs_background": "light"
     },
     "output_type": "display_data"
    },
    {
     "name": "stdout",
     "output_type": "stream",
     "text": [
      "--------------------\n",
      "1. Positive Feedback Count/\n"
     ]
    },
    {
     "data": {
      "image/png": "[encoded data removed]",
      "text/plain": [
       "<Figure size 576x288 with 2 Axes>"
      ]
     },
     "metadata": {
      "needs_background": "light"
     },
     "output_type": "display_data"
    },
    {
     "name": "stdout",
     "output_type": "stream",
     "text": [
      "--------------------\n"
     ]
    }
   ],
   "source": [
    "# Biến liên tục:\n",
    "stt = 0\n",
    "lst_ltuc = ['Age','Positive Feedback Count']\n",
    "for i in lst_ltuc:\n",
    "    print(f'{stt}. {i}/')\n",
    "    plt.figure(figsize=(8,4))\n",
    "    plt.subplot(1,2,1)\n",
    "    sns.distplot(df_pandas[i])\n",
    "    plt.subplot(1,2,2)\n",
    "    sns.boxplot(df_pandas[i])\n",
    "    plt.show()\n",
    "    print('-'*20)\n",
    "    stt+=1"
   ]
  },
  {
   "cell_type": "markdown",
   "metadata": {},
   "source": [
    "## Biến phân loại:"
   ]
  },
  {
   "cell_type": "code",
   "execution_count": 36,
   "metadata": {},
   "outputs": [
    {
     "data": {
      "text/html": [
       "<div>\n",
       "<style scoped>\n",
       "    .dataframe tbody tr th:only-of-type {\n",
       "        vertical-align: middle;\n",
       "    }\n",
       "\n",
       "    .dataframe tbody tr th {\n",
       "        vertical-align: top;\n",
       "    }\n",
       "\n",
       "    .dataframe thead th {\n",
       "        text-align: right;\n",
       "    }\n",
       "</style>\n",
       "<table border=\"1\" class=\"dataframe\">\n",
       "  <thead>\n",
       "    <tr style=\"text-align: right;\">\n",
       "      <th></th>\n",
       "      <th>Rating</th>\n",
       "      <th>count</th>\n",
       "    </tr>\n",
       "  </thead>\n",
       "  <tbody>\n",
       "    <tr>\n",
       "      <th>0</th>\n",
       "      <td>1</td>\n",
       "      <td>841</td>\n",
       "    </tr>\n",
       "    <tr>\n",
       "      <th>1</th>\n",
       "      <td>2</td>\n",
       "      <td>1564</td>\n",
       "    </tr>\n",
       "    <tr>\n",
       "      <th>2</th>\n",
       "      <td>3</td>\n",
       "      <td>2870</td>\n",
       "    </tr>\n",
       "    <tr>\n",
       "      <th>3</th>\n",
       "      <td>4</td>\n",
       "      <td>5076</td>\n",
       "    </tr>\n",
       "    <tr>\n",
       "      <th>4</th>\n",
       "      <td>5</td>\n",
       "      <td>13130</td>\n",
       "    </tr>\n",
       "  </tbody>\n",
       "</table>\n",
       "</div>"
      ],
      "text/plain": [
       "   Rating  count\n",
       "0       1    841\n",
       "1       2   1564\n",
       "2       3   2870\n",
       "3       4   5076\n",
       "4       5  13130"
      ]
     },
     "execution_count": 36,
     "metadata": {},
     "output_type": "execute_result"
    }
   ],
   "source": [
    "df_Rating = data.groupBy('Rating').count().orderBy('count').toPandas()\n",
    "df_Rating"
   ]
  },
  {
   "cell_type": "code",
   "execution_count": 37,
   "metadata": {},
   "outputs": [
    {
     "data": {
      "image/png": "[encoded data removed]",
      "text/plain": [
       "<Figure size 432x288 with 1 Axes>"
      ]
     },
     "metadata": {
      "needs_background": "light"
     },
     "output_type": "display_data"
    }
   ],
   "source": [
    "plt.figure(figsize=(6,4))\n",
    "sns.barplot(data=df_Rating, x = df_Rating['Rating'], y = df_Rating['count'])\n",
    "plt.show()"
   ]
  },
  {
   "cell_type": "code",
   "execution_count": 38,
   "metadata": {},
   "outputs": [],
   "source": [
    "# Rating bằng 5 có số lượng cao nhất, và thấp dần về Rating bằng 1"
   ]
  },
  {
   "cell_type": "code",
   "execution_count": 39,
   "metadata": {},
   "outputs": [
    {
     "data": {
      "text/html": [
       "<div>\n",
       "<style scoped>\n",
       "    .dataframe tbody tr th:only-of-type {\n",
       "        vertical-align: middle;\n",
       "    }\n",
       "\n",
       "    .dataframe tbody tr th {\n",
       "        vertical-align: top;\n",
       "    }\n",
       "\n",
       "    .dataframe thead th {\n",
       "        text-align: right;\n",
       "    }\n",
       "</style>\n",
       "<table border=\"1\" class=\"dataframe\">\n",
       "  <thead>\n",
       "    <tr style=\"text-align: right;\">\n",
       "      <th></th>\n",
       "      <th>Recommended IND</th>\n",
       "      <th>count</th>\n",
       "    </tr>\n",
       "  </thead>\n",
       "  <tbody>\n",
       "    <tr>\n",
       "      <th>0</th>\n",
       "      <td>0</td>\n",
       "      <td>4169</td>\n",
       "    </tr>\n",
       "    <tr>\n",
       "      <th>1</th>\n",
       "      <td>1</td>\n",
       "      <td>19312</td>\n",
       "    </tr>\n",
       "  </tbody>\n",
       "</table>\n",
       "</div>"
      ],
      "text/plain": [
       "   Recommended IND  count\n",
       "0                0   4169\n",
       "1                1  19312"
      ]
     },
     "execution_count": 39,
     "metadata": {},
     "output_type": "execute_result"
    }
   ],
   "source": [
    "df_Recommended = data.groupBy('Recommended IND').count().orderBy('count').toPandas()\n",
    "df_Recommended"
   ]
  },
  {
   "cell_type": "code",
   "execution_count": 40,
   "metadata": {},
   "outputs": [
    {
     "data": {
      "image/png": "[encoded data removed]",
      "text/plain": [
       "<Figure size 432x288 with 1 Axes>"
      ]
     },
     "metadata": {
      "needs_background": "light"
     },
     "output_type": "display_data"
    }
   ],
   "source": [
    "plt.figure(figsize=(6,4))\n",
    "sns.barplot(data=df_Recommended, x = df_Recommended['Recommended IND'], y = df_Recommended['count'])\n",
    "plt.show()"
   ]
  },
  {
   "cell_type": "markdown",
   "metadata": {},
   "source": [
    "# Phân tích hai biến"
   ]
  },
  {
   "cell_type": "markdown",
   "metadata": {},
   "source": [
    "## Phân tích hai biến Phân loại - Liên tục"
   ]
  },
  {
   "cell_type": "code",
   "execution_count": 41,
   "metadata": {},
   "outputs": [],
   "source": [
    "lst_ploai = ['Rating','Recommended IND']"
   ]
  },
  {
   "cell_type": "code",
   "execution_count": 42,
   "metadata": {},
   "outputs": [
    {
     "name": "stdout",
     "output_type": "stream",
     "text": [
      "1/ Rating - Age:\n"
     ]
    },
    {
     "data": {
      "image/png": "[encoded data removed]",
      "text/plain": [
       "<Figure size 432x288 with 1 Axes>"
      ]
     },
     "metadata": {
      "needs_background": "light"
     },
     "output_type": "display_data"
    },
    {
     "name": "stdout",
     "output_type": "stream",
     "text": [
      "2/ Rating - Positive Feedback Count:\n"
     ]
    },
    {
     "data": {
      "image/png": "[encoded data removed]",
      "text/plain": [
       "<Figure size 432x288 with 1 Axes>"
      ]
     },
     "metadata": {
      "needs_background": "light"
     },
     "output_type": "display_data"
    }
   ],
   "source": [
    "a = 1\n",
    "for i in ['Rating']:\n",
    "    for n in lst_ltuc:\n",
    "        print(f'{a}/ {i} - {n}:')\n",
    "        df_con = df_pandas[[i,n]]\n",
    "#         print(df_sub.head())\n",
    "        plt.figure(figsize=(6,4))\n",
    "        sns.boxplot(x = i, y = n, data= df_con, palette='Set3')\n",
    "        plt.show()\n",
    "        a+=1"
   ]
  },
  {
   "cell_type": "code",
   "execution_count": 43,
   "metadata": {},
   "outputs": [
    {
     "name": "stdout",
     "output_type": "stream",
     "text": [
      "+---+----------------+--------------------+------+-----------------------+---------------+\n",
      "|Age|           Title|         Review Text|Rating|Positive Feedback Count|Recommended IND|\n",
      "+---+----------------+--------------------+------+-----------------------+---------------+\n",
      "| 47|Flattering shirt|This shirt is ver...|     5|                      6|              1|\n",
      "| 41|            Love|I absolutely love...|     5|                      2|              1|\n",
      "| 37|       Just okay|I was looking for...|     3|                      0|              0|\n",
      "+---+----------------+--------------------+------+-----------------------+---------------+\n",
      "only showing top 3 rows\n",
      "\n"
     ]
    }
   ],
   "source": [
    "data_sub.show(3)"
   ]
  },
  {
   "cell_type": "code",
   "execution_count": 44,
   "metadata": {},
   "outputs": [
    {
     "name": "stdout",
     "output_type": "stream",
     "text": [
      "+------+-----+\n",
      "|Rating|count|\n",
      "+------+-----+\n",
      "|     5|12594|\n",
      "|     4| 4952|\n",
      "|     3| 2860|\n",
      "|     2| 1560|\n",
      "|     1|  838|\n",
      "+------+-----+\n",
      "\n"
     ]
    }
   ],
   "source": [
    "data_sub.groupBy('Rating').count().sort('count',ascending = False).show()"
   ]
  },
  {
   "cell_type": "code",
   "execution_count": 62,
   "metadata": {},
   "outputs": [],
   "source": [
    "regex1 = RegexTokenizer(inputCol= 'Title', outputCol='regex_Title', pattern='\\\\W')\n",
    "regex2 = RegexTokenizer(inputCol= 'Review Text', outputCol='regex_Text', pattern = '\\\\W')\n",
    "remover1 = StopWordsRemover(inputCol='regex_Title', outputCol='stop_Title')\n",
    "remover2= StopWordsRemover(inputCol='regex_Text', outputCol='stop_Text')\n",
    "count_vec1 = CountVectorizer(inputCol='stop_Title', outputCol= 'c_vec_Title')\n",
    "count_vec2 = CountVectorizer(inputCol='stop_Text', outputCol= 'c_vec_Text')\n",
    "idf1 = IDF(inputCol='c_vec_Title', outputCol='tf_idf_Title')\n",
    "idf2 = IDF(inputCol='c_vec_Text', outputCol='tf_idf_Text')\n",
    "vectoass = VectorAssembler(inputCols= ['tf_idf_Text','tf_idf_Title','Age','Recommended IND','Positive Feedback Count',], outputCol= 'features')"
   ]
  },
  {
   "cell_type": "code",
   "execution_count": 63,
   "metadata": {},
   "outputs": [],
   "source": [
    "pipe = Pipeline(stages=[regex1,regex2, remover1,remover2, count_vec1,count_vec2, idf1,idf2, vectoass])"
   ]
  },
  {
   "cell_type": "code",
   "execution_count": 64,
   "metadata": {},
   "outputs": [],
   "source": [
    "pipe = pipe.fit(data_sub)"
   ]
  },
  {
   "cell_type": "code",
   "execution_count": 65,
   "metadata": {},
   "outputs": [],
   "source": [
    "pipe_data = pipe.transform(data_sub)"
   ]
  },
  {
   "cell_type": "code",
   "execution_count": 66,
   "metadata": {},
   "outputs": [
    {
     "name": "stdout",
     "output_type": "stream",
     "text": [
      "+---+----------------+--------------------+------+-----------------------+---------------+-------------------+--------------------+-------------------+--------------------+--------------------+--------------------+--------------------+--------------------+--------------------+\n",
      "|Age|           Title|         Review Text|Rating|Positive Feedback Count|Recommended IND|        regex_Title|          regex_Text|         stop_Title|           stop_Text|         c_vec_Title|          c_vec_Text|        tf_idf_Title|         tf_idf_Text|            features|\n",
      "+---+----------------+--------------------+------+-----------------------+---------------+-------------------+--------------------+-------------------+--------------------+--------------------+--------------------+--------------------+--------------------+--------------------+\n",
      "| 47|Flattering shirt|This shirt is ver...|     5|                      6|              1|[flattering, shirt]|[this, shirt, is,...|[flattering, shirt]|[shirt, flatterin...|(3666,[11,20],[1....|(14160,[1,7,16,19...|(3666,[11,20],[3....|(14160,[1,7,16,19...|(17829,[1,7,16,19...|\n",
      "| 41|            Love|I absolutely love...|     5|                      2|              1|             [love]|[i, absolutely, l...|             [love]|[absolutely, love...|    (3666,[1],[1.0])|(14160,[1,4,6,7,9...|(3666,[1],[2.6093...|(14160,[1,4,6,7,9...|(17829,[1,4,6,7,9...|\n",
      "+---+----------------+--------------------+------+-----------------------+---------------+-------------------+--------------------+-------------------+--------------------+--------------------+--------------------+--------------------+--------------------+--------------------+\n",
      "only showing top 2 rows\n",
      "\n"
     ]
    }
   ],
   "source": [
    "pipe_data.show(2)"
   ]
  },
  {
   "cell_type": "code",
   "execution_count": 67,
   "metadata": {},
   "outputs": [
    {
     "name": "stdout",
     "output_type": "stream",
     "text": [
      "+-------------------------------------------------------------------------------------------------------------------------------------------------------+-------------------+\n",
      "|stop_Text                                                                                                                                              |stop_Title         |\n",
      "+-------------------------------------------------------------------------------------------------------------------------------------------------------+-------------------+\n",
      "|[shirt, flattering, due, adjustable, front, tie, perfect, length, wear, leggings, sleeveless, pairs, well, cardigan, love, shirt]                      |[flattering, shirt]|\n",
      "|[absolutely, love, bib, tee, probably, favorite, retailer, purchase, time, m, 5, 7, 140, pounds, small, perfect, fit, typically, wear, either, m, tops]|[love]             |\n",
      "|[looking, basic, tee, one, ok, quality, okay, us, soft, liked, unfortunately, returning, item]                                                         |[okay]             |\n",
      "+-------------------------------------------------------------------------------------------------------------------------------------------------------+-------------------+\n",
      "only showing top 3 rows\n",
      "\n"
     ]
    }
   ],
   "source": [
    "pipe_data.select('stop_Text','stop_Title').show(3, False)"
   ]
  },
  {
   "cell_type": "code",
   "execution_count": 68,
   "metadata": {},
   "outputs": [],
   "source": [
    "data_final = pipe_data.select(['features','Rating'])"
   ]
  },
  {
   "cell_type": "code",
   "execution_count": 69,
   "metadata": {},
   "outputs": [],
   "source": [
    "data_final = data_final.withColumnRenamed('Rating','label')"
   ]
  },
  {
   "cell_type": "code",
   "execution_count": 70,
   "metadata": {},
   "outputs": [
    {
     "name": "stdout",
     "output_type": "stream",
     "text": [
      "+--------------------+-----+\n",
      "|            features|label|\n",
      "+--------------------+-----+\n",
      "|(17829,[1,7,16,19...|    5|\n",
      "|(17829,[1,4,6,7,9...|    5|\n",
      "|(17829,[18,21,45,...|    3|\n",
      "|(17829,[0,20,34,4...|    1|\n",
      "|(17829,[3,12,21,2...|    5|\n",
      "+--------------------+-----+\n",
      "only showing top 5 rows\n",
      "\n"
     ]
    }
   ],
   "source": [
    "data_final.show(5)"
   ]
  },
  {
   "cell_type": "code",
   "execution_count": 71,
   "metadata": {},
   "outputs": [],
   "source": [
    "(train, test) = data_final.randomSplit([0.8,0.2])"
   ]
  },
  {
   "cell_type": "markdown",
   "metadata": {},
   "source": [
    "# Áp dụng Model"
   ]
  },
  {
   "cell_type": "code",
   "execution_count": 81,
   "metadata": {},
   "outputs": [],
   "source": [
    "model_nvb = NaiveBayes().fit(train)\n",
    "model_dtree = DecisionTreeClassifier().fit(train)\n",
    "model_rdf = RandomForestClassifier().fit(train)\n",
    "model_lgt = LogisticRegression().fit(train)"
   ]
  },
  {
   "cell_type": "code",
   "execution_count": 82,
   "metadata": {},
   "outputs": [],
   "source": [
    "preditions_nvb = model_nvb.transform(test)\n",
    "preditions_dtree = model_dtree.transform(test)\n",
    "preditions_rdf = model_rdf.transform(test)\n",
    "preditions_lgt = model_lgt.transform(test)"
   ]
  },
  {
   "cell_type": "code",
   "execution_count": 84,
   "metadata": {},
   "outputs": [],
   "source": [
    "table_nvb = preditions_nvb.groupBy('label','prediction').count()\n",
    "table_dtree = preditions_dtree.groupBy('label','prediction').count()\n",
    "table_rdf = preditions_rdf.groupBy('label','prediction').count()\n",
    "table_lgt = preditions_lgt.groupBy('label','prediction').count()"
   ]
  },
  {
   "cell_type": "code",
   "execution_count": 85,
   "metadata": {},
   "outputs": [
    {
     "name": "stdout",
     "output_type": "stream",
     "text": [
      "+-----+----------+-----+\n",
      "|label|prediction|count|\n",
      "+-----+----------+-----+\n",
      "|    2|       1.0|  103|\n",
      "|    4|       3.0|  390|\n",
      "|    4|       1.0|   42|\n",
      "|    2|       4.0|   11|\n",
      "|    1|       0.0|   61|\n",
      "|    3|       4.0|   46|\n",
      "|    5|       4.0| 1848|\n",
      "|    1|       3.0|    9|\n",
      "|    3|       1.0|  116|\n",
      "|    4|       4.0|  362|\n",
      "|    5|       2.0|   79|\n",
      "|    5|       1.0|   39|\n",
      "|    1|       2.0|   45|\n",
      "|    4|       0.0|   10|\n",
      "|    2|       3.0|   29|\n",
      "|    3|       2.0|  262|\n",
      "|    3|       3.0|  122|\n",
      "|    2|       2.0|  131|\n",
      "|    1|       1.0|   51|\n",
      "|    3|       0.0|   46|\n",
      "+-----+----------+-----+\n",
      "only showing top 20 rows\n",
      "\n",
      "+-----+----------+-----+\n",
      "|label|prediction|count|\n",
      "+-----+----------+-----+\n",
      "|    2|       1.0|    3|\n",
      "|    4|       3.0|   30|\n",
      "|    2|       4.0|    3|\n",
      "|    3|       4.0|   53|\n",
      "|    1|       3.0|  149|\n",
      "|    5|       4.0|   74|\n",
      "|    3|       1.0|    2|\n",
      "|    4|       4.0|  121|\n",
      "|    5|       5.0| 2343|\n",
      "|    1|       5.0|    4|\n",
      "|    1|       2.0|   12|\n",
      "|    2|       3.0|  295|\n",
      "|    3|       2.0|   15|\n",
      "|    4|       5.0|  801|\n",
      "|    3|       3.0|  342|\n",
      "|    3|       5.0|  180|\n",
      "|    2|       2.0|   11|\n",
      "|    1|       1.0|    4|\n",
      "|    5|       3.0|    9|\n",
      "|    2|       5.0|   14|\n",
      "+-----+----------+-----+\n",
      "only showing top 20 rows\n",
      "\n",
      "+-----+----------+-----+\n",
      "|label|prediction|count|\n",
      "+-----+----------+-----+\n",
      "|    5|       5.0| 2426|\n",
      "|    1|       5.0|  170|\n",
      "|    4|       5.0|  952|\n",
      "|    3|       5.0|  592|\n",
      "|    2|       5.0|  326|\n",
      "+-----+----------+-----+\n",
      "\n",
      "+-----+----------+-----+\n",
      "|label|prediction|count|\n",
      "+-----+----------+-----+\n",
      "|    2|       1.0|   43|\n",
      "|    4|       3.0|  120|\n",
      "|    2|       4.0|   48|\n",
      "|    4|       1.0|    5|\n",
      "|    3|       4.0|  140|\n",
      "|    5|       4.0|  526|\n",
      "|    1|       3.0|   37|\n",
      "|    3|       1.0|   46|\n",
      "|    4|       4.0|  340|\n",
      "|    5|       5.0| 1784|\n",
      "|    5|       2.0|   15|\n",
      "|    1|       5.0|   17|\n",
      "|    5|       1.0|   12|\n",
      "|    1|       2.0|   48|\n",
      "|    2|       3.0|   89|\n",
      "|    3|       2.0|  111|\n",
      "|    4|       5.0|  462|\n",
      "|    3|       3.0|  183|\n",
      "|    3|       5.0|  112|\n",
      "|    2|       2.0|  101|\n",
      "+-----+----------+-----+\n",
      "only showing top 20 rows\n",
      "\n"
     ]
    },
    {
     "data": {
      "text/plain": [
       "(None, None)"
      ]
     },
     "execution_count": 85,
     "metadata": {},
     "output_type": "execute_result"
    }
   ],
   "source": [
    "table_nvb.show()\n",
    "table_dtree.show()\n",
    "table_rdf.show(), table_lgt.show()"
   ]
  },
  {
   "cell_type": "code",
   "execution_count": 86,
   "metadata": {},
   "outputs": [],
   "source": [
    "acc_ecaluator = MulticlassClassificationEvaluator(metricName='accuracy')"
   ]
  },
  {
   "cell_type": "code",
   "execution_count": 87,
   "metadata": {},
   "outputs": [],
   "source": [
    "nvb_acc = acc_ecaluator.evaluate(preditions_nvb)\n",
    "dtree_acc = acc_ecaluator.evaluate(preditions_dtree)\n",
    "rdf_acc = acc_ecaluator.evaluate(preditions_rdf)\n",
    "lgt_acc = acc_ecaluator.evaluate(preditions_lgt)"
   ]
  },
  {
   "cell_type": "code",
   "execution_count": 88,
   "metadata": {
    "scrolled": true
   },
   "outputs": [
    {
     "name": "stdout",
     "output_type": "stream",
     "text": [
      "Results\n",
      "------------------------------------------------------------\n",
      "A single Navibayes has an accuracy of: 14.91\n",
      "------------------------------------------------------------\n",
      "A single decision tree has an accuracy of: 63.17\n",
      "------------------------------------------------------------\n",
      "A single random forest has an accuracy of: 54.32\n",
      "------------------------------------------------------------\n",
      "A ensemble using Logistic has an accuracy of: 54.93\n"
     ]
    }
   ],
   "source": [
    "print('Results')\n",
    "print('-'*60)\n",
    "print(f'A single Navibayes has an accuracy of: {nvb_acc*100:.2f}')\n",
    "print('-'*60)\n",
    "print(f'A single decision tree has an accuracy of: {dtree_acc*100:.2f}')\n",
    "print('-'*60)\n",
    "print(f'A single random forest has an accuracy of: {rdf_acc*100:.2f}')\n",
    "print('-'*60)\n",
    "print(f'A ensemble using Logistic has an accuracy of: {lgt_acc*100:.2f}')"
   ]
  },
  {
   "cell_type": "markdown",
   "metadata": {},
   "source": [
    "#### Lựa chọn mô hình"
   ]
  },
  {
   "cell_type": "markdown",
   "metadata": {},
   "source": [
    "Trong bài toán này khi áp dụng mô hình Decission Tree kết quả acc nhận được là cao nhất (63%)\n",
    "Tuy kết quả này chưa được tối ưu nhưng có thể sử dụng được.\n",
    "Lựa chọn model Deccision Tree cho bài toán này"
   ]
  },
  {
   "cell_type": "markdown",
   "metadata": {},
   "source": [
    "# Dự đoán mới"
   ]
  },
  {
   "cell_type": "code",
   "execution_count": 89,
   "metadata": {},
   "outputs": [],
   "source": [
    "df_new = pd.read_excel('Data/womens-ecommerce-clothing-reviews/Womens_Clothing_E_Commerce_Reviews.xlsx', sheet_name='new_reviews',engine='openpyxl')"
   ]
  },
  {
   "cell_type": "code",
   "execution_count": 90,
   "metadata": {},
   "outputs": [
    {
     "data": {
      "text/html": [
       "<div>\n",
       "<style scoped>\n",
       "    .dataframe tbody tr th:only-of-type {\n",
       "        vertical-align: middle;\n",
       "    }\n",
       "\n",
       "    .dataframe tbody tr th {\n",
       "        vertical-align: top;\n",
       "    }\n",
       "\n",
       "    .dataframe thead th {\n",
       "        text-align: right;\n",
       "    }\n",
       "</style>\n",
       "<table border=\"1\" class=\"dataframe\">\n",
       "  <thead>\n",
       "    <tr style=\"text-align: right;\">\n",
       "      <th></th>\n",
       "      <th>Unnamed: 0</th>\n",
       "      <th>Clothing ID</th>\n",
       "      <th>Age</th>\n",
       "      <th>Title</th>\n",
       "      <th>Review Text</th>\n",
       "      <th>Recommended IND</th>\n",
       "      <th>Positive Feedback Count</th>\n",
       "      <th>Division Name</th>\n",
       "      <th>Department Name</th>\n",
       "      <th>Class Name</th>\n",
       "    </tr>\n",
       "  </thead>\n",
       "  <tbody>\n",
       "    <tr>\n",
       "      <th>0</th>\n",
       "      <td>0</td>\n",
       "      <td>1077</td>\n",
       "      <td>53</td>\n",
       "      <td>Dress looks like it's made of cheap material</td>\n",
       "      <td>Dress runs small esp where the zipper area run...</td>\n",
       "      <td>0</td>\n",
       "      <td>14</td>\n",
       "      <td>General</td>\n",
       "      <td>Dresses</td>\n",
       "      <td>Dresses</td>\n",
       "    </tr>\n",
       "    <tr>\n",
       "      <th>1</th>\n",
       "      <td>1</td>\n",
       "      <td>862</td>\n",
       "      <td>66</td>\n",
       "      <td>Cute top</td>\n",
       "      <td>Nice top. armholes are a bit oversized but as ...</td>\n",
       "      <td>1</td>\n",
       "      <td>2</td>\n",
       "      <td>General</td>\n",
       "      <td>Tops</td>\n",
       "      <td>Knits</td>\n",
       "    </tr>\n",
       "    <tr>\n",
       "      <th>2</th>\n",
       "      <td>2</td>\n",
       "      <td>1080</td>\n",
       "      <td>31</td>\n",
       "      <td>Underwhelmed</td>\n",
       "      <td>Was really excited for this dress but should h...</td>\n",
       "      <td>0</td>\n",
       "      <td>1</td>\n",
       "      <td>General</td>\n",
       "      <td>Dresses</td>\n",
       "      <td>Dresses</td>\n",
       "    </tr>\n",
       "    <tr>\n",
       "      <th>3</th>\n",
       "      <td>3</td>\n",
       "      <td>936</td>\n",
       "      <td>35</td>\n",
       "      <td>Absolutely perfect</td>\n",
       "      <td>If you are going for a ridiculously high price...</td>\n",
       "      <td>0</td>\n",
       "      <td>9</td>\n",
       "      <td>General</td>\n",
       "      <td>Tops</td>\n",
       "      <td>Sweaters</td>\n",
       "    </tr>\n",
       "    <tr>\n",
       "      <th>4</th>\n",
       "      <td>4</td>\n",
       "      <td>872</td>\n",
       "      <td>35</td>\n",
       "      <td>Cute comfy casual</td>\n",
       "      <td>I saw this online and immediately purchased th...</td>\n",
       "      <td>1</td>\n",
       "      <td>0</td>\n",
       "      <td>General</td>\n",
       "      <td>Tops</td>\n",
       "      <td>Knits</td>\n",
       "    </tr>\n",
       "  </tbody>\n",
       "</table>\n",
       "</div>"
      ],
      "text/plain": [
       "   Unnamed: 0  Clothing ID  Age                                         Title  \\\n",
       "0           0         1077   53  Dress looks like it's made of cheap material   \n",
       "1           1          862   66                                      Cute top   \n",
       "2           2         1080   31                                  Underwhelmed   \n",
       "3           3          936   35                            Absolutely perfect   \n",
       "4           4          872   35                             Cute comfy casual   \n",
       "\n",
       "                                         Review Text  Recommended IND  \\\n",
       "0  Dress runs small esp where the zipper area run...                0   \n",
       "1  Nice top. armholes are a bit oversized but as ...                1   \n",
       "2  Was really excited for this dress but should h...                0   \n",
       "3  If you are going for a ridiculously high price...                0   \n",
       "4  I saw this online and immediately purchased th...                1   \n",
       "\n",
       "   Positive Feedback Count Division Name Department Name Class Name  \n",
       "0                       14       General         Dresses    Dresses  \n",
       "1                        2       General            Tops      Knits  \n",
       "2                        1       General         Dresses    Dresses  \n",
       "3                        9       General            Tops   Sweaters  \n",
       "4                        0       General            Tops      Knits  "
      ]
     },
     "execution_count": 90,
     "metadata": {},
     "output_type": "execute_result"
    }
   ],
   "source": [
    "df_new"
   ]
  },
  {
   "cell_type": "code",
   "execution_count": 91,
   "metadata": {},
   "outputs": [],
   "source": [
    "schema = StructType([StructField( 'Unnamed: 0', IntegerType(), True),StructField( 'Clothing ID', IntegerType(), True),StructField( 'Age', IntegerType(), True),StructField( 'Title', StringType(), True),StructField( 'Review Text', StringType(), True), StructField('Recommended IND', IntegerType(),True),StructField('Positive Feedback Count', IntegerType(),True),StructField('Division Name', StringType(),True),StructField('Department Name', StringType(),True),StructField('Class Name', StringType(),True)])"
   ]
  },
  {
   "cell_type": "code",
   "execution_count": 92,
   "metadata": {},
   "outputs": [],
   "source": [
    "data_new = spark.createDataFrame(data=df_new, schema= schema)                           "
   ]
  },
  {
   "cell_type": "code",
   "execution_count": 93,
   "metadata": {},
   "outputs": [
    {
     "name": "stdout",
     "output_type": "stream",
     "text": [
      "+----------+-----------+---+--------------------+--------------------+---------------+-----------------------+-------------+---------------+----------+\n",
      "|Unnamed: 0|Clothing ID|Age|               Title|         Review Text|Recommended IND|Positive Feedback Count|Division Name|Department Name|Class Name|\n",
      "+----------+-----------+---+--------------------+--------------------+---------------+-----------------------+-------------+---------------+----------+\n",
      "|         0|       1077| 53|Dress looks like ...|Dress runs small ...|              0|                     14|      General|        Dresses|   Dresses|\n",
      "|         1|        862| 66|            Cute top|Nice top. armhole...|              1|                      2|      General|           Tops|     Knits|\n",
      "|         2|       1080| 31|        Underwhelmed|Was really excite...|              0|                      1|      General|        Dresses|   Dresses|\n",
      "+----------+-----------+---+--------------------+--------------------+---------------+-----------------------+-------------+---------------+----------+\n",
      "only showing top 3 rows\n",
      "\n"
     ]
    }
   ],
   "source": [
    "data_new.show(3)"
   ]
  },
  {
   "cell_type": "code",
   "execution_count": 94,
   "metadata": {},
   "outputs": [
    {
     "data": {
      "text/plain": [
       "5"
      ]
     },
     "execution_count": 94,
     "metadata": {},
     "output_type": "execute_result"
    }
   ],
   "source": [
    "data_new.count()"
   ]
  },
  {
   "cell_type": "code",
   "execution_count": 95,
   "metadata": {},
   "outputs": [],
   "source": [
    "data_sub_new = data_new.select(['Age', 'Title', 'Review Text','Positive Feedback Count','Recommended IND'])"
   ]
  },
  {
   "cell_type": "code",
   "execution_count": 96,
   "metadata": {},
   "outputs": [],
   "source": [
    "pipe_data_new = pipe.transform(data_sub_new)"
   ]
  },
  {
   "cell_type": "code",
   "execution_count": 97,
   "metadata": {
    "collapsed": true
   },
   "outputs": [
    {
     "name": "stdout",
     "output_type": "stream",
     "text": [
      "+---+--------------------+--------------------+-----------------------+---------------+--------------------+--------------------+--------------------+--------------------+--------------------+--------------------+--------------------+--------------------+--------------------+\n",
      "|Age|               Title|         Review Text|Positive Feedback Count|Recommended IND|         regex_Title|          regex_Text|          stop_Title|           stop_Text|         c_vec_Title|          c_vec_Text|        tf_idf_Title|         tf_idf_Text|            features|\n",
      "+---+--------------------+--------------------+-----------------------+---------------+--------------------+--------------------+--------------------+--------------------+--------------------+--------------------+--------------------+--------------------+--------------------+\n",
      "| 53|Dress looks like ...|Dress runs small ...|                     14|              0|[dress, looks, li...|[dress, runs, sma...|[dress, looks, li...|[dress, runs, sma...|(3666,[3,34,74,78...|(14160,[0,3,10,11...|(3666,[3,34,74,78...|(14160,[0,3,10,11...|(17829,[0,3,10,11...|\n",
      "| 66|            Cute top|Nice top. armhole...|                      2|              1|         [cute, top]|[nice, top, armho...|         [cute, top]|[nice, top, armho...|(3666,[4,6],[1.0,...|(14160,[3,6,8,10,...|(3666,[4,6],[2.69...|(14160,[3,6,8,10,...|(17829,[3,6,8,10,...|\n",
      "| 31|        Underwhelmed|Was really excite...|                      1|              0|      [underwhelmed]|[was, really, exc...|      [underwhelmed]|[really, excited,...|  (3666,[833],[1.0])|(14160,[0,14,34,4...|(3666,[833],[8.24...|(14160,[0,14,34,4...|(17829,[0,14,34,4...|\n",
      "| 35|  Absolutely perfect|If you are going ...|                      9|              0|[absolutely, perf...|[if, you, are, go...|[absolutely, perf...|[going, ridiculou...|(3666,[7,142],[1....|(14160,[5,13,18,1...|(3666,[7,142],[3....|(14160,[5,13,18,1...|(17829,[5,13,18,1...|\n",
      "| 35|   Cute comfy casual|I saw this online...|                      0|              1|[cute, comfy, cas...|[i, saw, this, on...|[cute, comfy, cas...|[saw, online, imm...|(3666,[4,15,37],[...|(14160,[3,4,23,33...|(3666,[4,15,37],[...|(14160,[3,4,23,33...|(17829,[3,4,23,33...|\n",
      "+---+--------------------+--------------------+-----------------------+---------------+--------------------+--------------------+--------------------+--------------------+--------------------+--------------------+--------------------+--------------------+--------------------+\n",
      "\n"
     ]
    }
   ],
   "source": [
    "pipe_data_new.show()"
   ]
  },
  {
   "cell_type": "code",
   "execution_count": 98,
   "metadata": {},
   "outputs": [],
   "source": [
    "data_final_new = pipe_data_new.select('features')"
   ]
  },
  {
   "cell_type": "code",
   "execution_count": 99,
   "metadata": {},
   "outputs": [
    {
     "name": "stdout",
     "output_type": "stream",
     "text": [
      "+--------------------+\n",
      "|            features|\n",
      "+--------------------+\n",
      "|(17829,[0,3,10,11...|\n",
      "|(17829,[3,6,8,10,...|\n",
      "|(17829,[0,14,34,4...|\n",
      "|(17829,[5,13,18,1...|\n",
      "|(17829,[3,4,23,33...|\n",
      "+--------------------+\n",
      "\n"
     ]
    }
   ],
   "source": [
    "data_final_new.show()"
   ]
  },
  {
   "cell_type": "code",
   "execution_count": 100,
   "metadata": {},
   "outputs": [],
   "source": [
    "new = model_dtree.transform(data_final_new)"
   ]
  },
  {
   "cell_type": "code",
   "execution_count": 101,
   "metadata": {},
   "outputs": [
    {
     "name": "stdout",
     "output_type": "stream",
     "text": [
      "+--------------------+--------------------+--------------------+----------+\n",
      "|            features|       rawPrediction|         probability|prediction|\n",
      "+--------------------+--------------------+--------------------+----------+\n",
      "|(17829,[0,3,10,11...|[0.0,43.0,46.0,25...|[0.0,0.3771929824...|       2.0|\n",
      "|(17829,[3,6,8,10,...|[0.0,7.0,53.0,587...|[0.0,9.2961487383...|       5.0|\n",
      "|(17829,[0,14,34,4...|[0.0,43.0,46.0,25...|[0.0,0.3771929824...|       2.0|\n",
      "|(17829,[5,13,18,1...|[0.0,43.0,46.0,25...|[0.0,0.3771929824...|       2.0|\n",
      "|(17829,[3,4,23,33...|[0.0,7.0,53.0,587...|[0.0,9.2961487383...|       5.0|\n",
      "+--------------------+--------------------+--------------------+----------+\n",
      "\n"
     ]
    }
   ],
   "source": [
    "new.show()"
   ]
  },
  {
   "cell_type": "code",
   "execution_count": 102,
   "metadata": {},
   "outputs": [],
   "source": [
    "rating = new.select('prediction').withColumnRenamed('prediction', 'Rating_prediction')"
   ]
  },
  {
   "cell_type": "code",
   "execution_count": 103,
   "metadata": {},
   "outputs": [
    {
     "name": "stdout",
     "output_type": "stream",
     "text": [
      "+-----------------+\n",
      "|Rating_prediction|\n",
      "+-----------------+\n",
      "|              2.0|\n",
      "|              5.0|\n",
      "|              2.0|\n",
      "|              2.0|\n",
      "|              5.0|\n",
      "+-----------------+\n",
      "\n"
     ]
    }
   ],
   "source": [
    "rating.show()"
   ]
  },
  {
   "cell_type": "code",
   "execution_count": 104,
   "metadata": {},
   "outputs": [],
   "source": [
    "# Gắn cột Rating_prediction vào data_new"
   ]
  },
  {
   "cell_type": "code",
   "execution_count": 105,
   "metadata": {},
   "outputs": [],
   "source": [
    "data_new = data_new.withColumn('row_index', monotonically_increasing_id())\n",
    "rating = rating.withColumn('row_index', monotonically_increasing_id())\n",
    "data_new = data_new.join(rating, on = ['row_index']).sort('row_index').drop('row_index')"
   ]
  },
  {
   "cell_type": "code",
   "execution_count": 106,
   "metadata": {},
   "outputs": [
    {
     "name": "stdout",
     "output_type": "stream",
     "text": [
      "+----------+-----------+---+--------------------+--------------------+---------------+-----------------------+-------------+---------------+----------+-----------------+\n",
      "|Unnamed: 0|Clothing ID|Age|               Title|         Review Text|Recommended IND|Positive Feedback Count|Division Name|Department Name|Class Name|Rating_prediction|\n",
      "+----------+-----------+---+--------------------+--------------------+---------------+-----------------------+-------------+---------------+----------+-----------------+\n",
      "|         0|       1077| 53|Dress looks like ...|Dress runs small ...|              0|                     14|      General|        Dresses|   Dresses|              2.0|\n",
      "|         1|        862| 66|            Cute top|Nice top. armhole...|              1|                      2|      General|           Tops|     Knits|              5.0|\n",
      "|         2|       1080| 31|        Underwhelmed|Was really excite...|              0|                      1|      General|        Dresses|   Dresses|              2.0|\n",
      "|         3|        936| 35|  Absolutely perfect|If you are going ...|              0|                      9|      General|           Tops|  Sweaters|              2.0|\n",
      "|         4|        872| 35|   Cute comfy casual|I saw this online...|              1|                      0|      General|           Tops|     Knits|              5.0|\n",
      "+----------+-----------+---+--------------------+--------------------+---------------+-----------------------+-------------+---------------+----------+-----------------+\n",
      "\n"
     ]
    }
   ],
   "source": [
    "data_new.show()"
   ]
  },
  {
   "cell_type": "markdown",
   "metadata": {},
   "source": [
    "# Lưu model"
   ]
  },
  {
   "cell_type": "code",
   "execution_count": 107,
   "metadata": {},
   "outputs": [],
   "source": [
    "# Lưu\n",
    "model_dtree.save('Model_Cau1')"
   ]
  },
  {
   "cell_type": "code",
   "execution_count": null,
   "metadata": {},
   "outputs": [],
   "source": []
  }
 ],
 "metadata": {
  "colab": {
   "collapsed_sections": [],
   "name": "demo_c6_Students.ipynb",
   "provenance": []
  },
  "kernelspec": {
   "display_name": "Python 3 (ipykernel)",
   "language": "python",
   "name": "python3"
  },
  "language_info": {
   "codemirror_mode": {
    "name": "ipython",
    "version": 3
   },
   "file_extension": ".py",
   "mimetype": "text/x-python",
   "name": "python",
   "nbconvert_exporter": "python",
   "pygments_lexer": "ipython3",
   "version": "3.9.0"
  }
 },
 "nbformat": 4,
 "nbformat_minor": 1
}
